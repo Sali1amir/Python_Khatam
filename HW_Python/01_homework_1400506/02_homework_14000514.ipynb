{
 "cells": [
  {
   "cell_type": "markdown",
   "metadata": {
    "pycharm": {
     "name": "#%% md\n"
    }
   },
   "source": [
    "# 1. Given a list of integers with duplicate elements in it. The task to generate another list, which contains only the duplicate elements.\n",
    ">In simple words, the new list should contain the elements which appear more than one.\n",
    ">> Input : list = [10, 20, 30, 20, 20, 30, 40, 50, -20, 60, 60, -20, -20]\n",
    ">>Output : output_list = [20, 30, -20, 60]"
   ]
  },
  {
   "cell_type": "code",
   "execution_count": 1,
   "metadata": {
    "pycharm": {
     "name": "#%%\n"
    }
   },
   "outputs": [
    {
     "name": "stdout",
     "output_type": "stream",
     "text": [
      "20 20 30 60 -20 -20 "
     ]
    }
   ],
   "source": [
    "a=[10, 20, 30, 20, 20, 30, 40, 50, -20, 60, 60, -20, -20]\n",
    "a1=[]\n",
    "for i in a:\n",
    "    if i not in a1:\n",
    "        a1.append(i)\n",
    "    else:\n",
    "        print(i,end=' ')"
   ]
  },
  {
   "cell_type": "markdown",
   "metadata": {
    "pycharm": {
     "name": "#%% md\n"
    }
   },
   "source": [
    "# 2. Program to display the Fibonacci sequence up to n-th term where n is provided by the user.\n",
    "> A Fibonacci sequence is the integer sequence of 0, 1, 1, 2, 3, 5, 8....\n",
    ">> Input : n = 7\n",
    ">> Output : 0 1 1 2 3 5 8"
   ]
  },
  {
   "cell_type": "code",
   "execution_count": null,
   "metadata": {
    "pycharm": {
     "name": "#%%\n"
    }
   },
   "outputs": [],
   "source": [
    "\n",
    "nterms = int(input(\"How many terms? \"))\n",
    "\n",
    "n1, n2 = 0, 1\n",
    "count = 0\n",
    "\n",
    "if nterms <= 0:\n",
    "    print(\"Please enter a positive integer\")\n",
    "elif nterms == 1:\n",
    "   print(\"Fibonacci sequence upto\",nterms,\":\")\n",
    "   print(n1)\n",
    "else:\n",
    "   print(\"Fibonacci sequence:\")\n",
    "   while count < nterms:\n",
    "       print(n1)\n",
    "       nth = n1 + n2\n",
    "       n1 = n2\n",
    "       n2 = nth\n",
    "       count += 1"
   ]
  },
  {
   "cell_type": "markdown",
   "metadata": {
    "pycharm": {
     "name": "#%% md\n"
    }
   },
   "source": []
  },
  {
   "cell_type": "markdown",
   "metadata": {
    "pycharm": {
     "name": "#%% md\n"
    }
   },
   "source": [
    "# 3. Python Program to Find the Factorial of a Number.\n",
    "> The factorial of a number is the product of all integers from 1 to n.\n",
    ">> For example, the factorial of 6 is 1*2*3*4*5*6 = 720.\n",
    ">>Factorial is not defined for negative numbers, and the factorial of zero is one, 0! = 1."
   ]
  },
  {
   "cell_type": "code",
   "execution_count": null,
   "metadata": {
    "pycharm": {
     "name": "#%%\n"
    }
   },
   "outputs": [],
   "source": [
    "num = 7\n",
    "factorial = 1\n",
    "if num < 0:\n",
    "    print(\"Sorry, factorial does not exist for negative numbers\")\n",
    "elif num == 0:\n",
    "   print(\"The factorial of 0 is 1\")\n",
    "else:\n",
    "   for i in range(1,num + 1):\n",
    "       factorial = factorial*i\n",
    "   print(\"The factorial of\",num,\"is\",factorial)\n"
   ]
  },
  {
   "cell_type": "markdown",
   "metadata": {
    "pycharm": {
     "name": "#%% md\n"
    }
   },
   "source": [
    "# 4. Matrix Addition using Nested List Comprehension"
   ]
  },
  {
   "cell_type": "code",
   "execution_count": null,
   "metadata": {
    "pycharm": {
     "name": "#%%\n"
    }
   },
   "outputs": [],
   "source": []
  },
  {
   "cell_type": "markdown",
   "metadata": {
    "pycharm": {
     "name": "#%% md\n"
    }
   },
   "source": [
    "# 5. Python Program to Multiply Two Matrices\n",
    ">3x3 matrix\n",
    ">>X = [[12,7,3],\n",
    ">>    [4 ,5,6],\n",
    ">>    [7 ,8,9]]\n",
    "<br/>\n",
    "\n",
    "> 3x4 matrix\n",
    ">>Y = [[5,8,1,2],\n",
    ">>    [6,7,3,0],\n",
    ">>    [4,5,9,1]]"
   ]
  },
  {
   "cell_type": "code",
   "execution_count": null,
   "metadata": {
    "pycharm": {
     "name": "#%%\n"
    }
   },
   "outputs": [],
   "source": [
    "\n",
    "X = [[12,7,3],\n",
    "    [4 ,5,6],\n",
    "    [7 ,8,9]]\n",
    "\n",
    "Y = [[5,8,1],\n",
    "    [6,7,3],\n",
    "    [4,5,9,1]]\n",
    "\n",
    "\n",
    "for i in range(len(X)):\n",
    "   for j in range(len(X[0])):\n",
    "       result[i][j] = X[i][j] + Y[i][j]\n",
    "\n",
    "for r in result:\n",
    "    print(r)"
   ]
  },
  {
   "cell_type": "markdown",
   "metadata": {
    "pycharm": {
     "name": "#%% md\n"
    }
   },
   "source": [
    "# 6. python program to emplement folling output:\n",
    "\n",
    ">Enter a number: 4\n",
    ">Enter a number: 5\n",
    ">Enter a number: bad data\n",
    ">Invalid input\n",
    ">Enter a number: 7\n",
    ">Enter a number: done\n",
    ">sum:16 count:3  average:5.333333333333333"
   ]
  },
  {
   "cell_type": "code",
   "execution_count": null,
   "metadata": {
    "pycharm": {
     "name": "#%%\n"
    }
   },
   "outputs": [],
   "source": [
    "total = 0\n",
    "count = 0\n",
    "average = 0\n",
    "while True:\n",
    "    number = input(\"Enter a number:\")\n",
    "    if number == \"done\":\n",
    "        break\n",
    "    total += float(number)\n",
    "    count += 1\n",
    "    average = total / count\n",
    "print (total, count, average)"
   ]
  },
  {
   "cell_type": "markdown",
   "metadata": {
    "pycharm": {
     "name": "#%% md\n"
    }
   },
   "source": [
    "# 7. Python Program to Find Sum of 10 Numbers and Skip Negative Numbers"
   ]
  },
  {
   "cell_type": "code",
   "execution_count": null,
   "metadata": {
    "pycharm": {
     "name": "#%%\n"
    }
   },
   "outputs": [],
   "source": [
    "x = input(\"numbers: \")\n",
    "lst = []\n",
    "\n",
    "for i in x:\n",
    "    if i > 0:\n",
    "        i.insert(lst)\n",
    "    if i < 0:\n",
    "        break"
   ]
  },
  {
   "cell_type": "markdown",
   "metadata": {
    "pycharm": {
     "name": "#%% md\n"
    }
   },
   "source": [
    "# 8. Python Program to Count Number of Digits in a Number using While Loop\n",
    "> Input: 9875\n",
    "> Output:  Number of Digits in a Given Number = 4"
   ]
  },
  {
   "cell_type": "code",
   "execution_count": null,
   "metadata": {
    "pycharm": {
     "name": "#%%\n"
    }
   },
   "outputs": [],
   "source": [
    "\n",
    "num =int(input(\"Enter the integer: \")) \n",
    "count = 0\n",
    "\n",
    "while num != 0:\n",
    "    num //= 10\n",
    "    count += 1\n",
    "\n",
    "print(\"\\nNumber of digits: \" + str(count))"
   ]
  },
  {
   "cell_type": "markdown",
   "metadata": {
    "pycharm": {
     "name": "#%% md\n"
    }
   },
   "source": [
    "# 9. Python Program to Sum of Digits in a Number using While Loop\n",
    ">Input: 9875\n",
    "> Output: Sum of Digits in a Given Number = 29"
   ]
  },
  {
   "cell_type": "code",
   "execution_count": null,
   "metadata": {
    "pycharm": {
     "name": "#%%\n"
    }
   },
   "outputs": [],
   "source": [
    "n =int(input(\"Enter the integer: \")) \n",
    "If n < 10    \n",
    "    digSum(n) = n\n",
    "Else         \n",
    "    digSum(n) = Sum(digSum(n))"
   ]
  }
 ],
 "metadata": {
  "kernelspec": {
   "display_name": "Python 3",
   "language": "python",
   "name": "python3"
  },
  "language_info": {
   "codemirror_mode": {
    "name": "ipython",
    "version": 3
   },
   "file_extension": ".py",
   "mimetype": "text/x-python",
   "name": "python",
   "nbconvert_exporter": "python",
   "pygments_lexer": "ipython3",
   "version": "3.7.3"
  }
 },
 "nbformat": 4,
 "nbformat_minor": 1
}
